{
  "nbformat": 4,
  "nbformat_minor": 0,
  "metadata": {
    "colab": {
      "provenance": []
    },
    "kernelspec": {
      "name": "python3",
      "display_name": "Python 3"
    },
    "language_info": {
      "name": "python"
    }
  },
  "cells": [
    {
      "cell_type": "code",
      "execution_count": null,
      "metadata": {
        "colab": {
          "base_uri": "https://localhost:8080/",
          "height": 317
        },
        "id": "Q5K9MHHegjEm",
        "outputId": "c6265a23-f665-46a0-fa74-6c4d960bc867"
      },
      "outputs": [
        {
          "output_type": "stream",
          "name": "stdout",
          "text": [
            "m [0.72039474]\n",
            "c 26.513157894736842\n",
            "[39.48026316]\n"
          ]
        },
        {
          "output_type": "display_data",
          "data": {
            "text/plain": [
              "<Figure size 432x288 with 1 Axes>"
            ],
            "image/png": "[encoded data removed]"
          },
          "metadata": {
            "needs_background": "light"
          }
        }
      ],
      "source": [
        "import matplotlib.pyplot as plt\n",
        "from sklearn import linear_model\n",
        "x=[[10],[15],[17],[19],[20],[23]]\n",
        "y=[34,38,42,45,25,50]\n",
        "plt.step(x,y)\n",
        "model=linear_model.LinearRegression()\n",
        "model.fit(x,y)\n",
        "plt.plot(x,model.predict(x),color='r')\n",
        "plt.scatter([[18]],model.predict([[18]]),color='g',s=30)\n",
        "print('m',model.coef_)\n",
        "print('c',model.intercept_)\n",
        "print(model.predict([[18]]))\n",
        "plt.show()"
      ]
    }
  ]
}